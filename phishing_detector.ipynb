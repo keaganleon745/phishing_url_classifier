import pandas as pd
import numpy as np
import re
import tldextract
import matplotlib.pyplot as plt
from sklearn.model_selection import train_test_split
from sklearn.ensemble import RandomForestClassifier
from sklearn.metrics import classification_report
