import pandas as pd
import numpy as np
import re
import tldextract
import matplotlib.pyplot as plt
from sklearn.model_selection import train_test_split
from sklearn.ensemble import RandomForestClassifier
from sklearn.metrics import classification_report

df = pd.read_csv('phishing_site_urls.csv')  # Adjust this name to your file
df.head()

def extract_features(url):
    extracted = tldextract.extract(url)
    return {
        'url_length': len(url),
        'has_ip': 1 if re.search(r'(\d{1,3}\.){3}\d{1,3}', url) else 0,
        'has_at': 1 if '@' in url else 0,
        'count_dots': url.count('.'),
        'is_https': 1 if url.startswith('https') else 0,
        'tld': extracted.suffix
    }

features = df['URL'].apply(extract_features)
X = pd.DataFrame(features.tolist())

X = pd.get_dummies(X, columns=['tld'])
y = df['Label'].map({'phishing': 1, 'legitimate': 0})

X_train, X_test, y_train, y_test = train_test_split(
    X, y, test_size=0.2, random_state=42)

model = RandomForestClassifier(n_estimators=100, random_state=42)
model.fit(X_train, y_train)

y_pred = model.predict(X_test)
print(classification_report(y_test, y_pred))

importances = model.feature_importances_
indices = np.argsort(importances)[::-1]
feature_names = X.columns

plt.figure(figsize=(12, 5))
plt.title("Feature Importance")
plt.bar(range(X.shape[1]), importances[indices])
plt.xticks(range(X.shape[1]), feature_names[indices], rotation=90)
plt.tight_layout()
plt.show()
